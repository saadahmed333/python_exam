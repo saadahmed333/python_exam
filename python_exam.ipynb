{
 "cells": [
  {
   "cell_type": "code",
   "execution_count": 3,
   "metadata": {},
   "outputs": [
    {
     "name": "stdout",
     "output_type": "stream",
     "text": [
      "{'lines': 6, 'word': 24, 'character': 71}\n"
     ]
    }
   ],
   "source": [
    "def analyze_file(file_name):\n",
    "    try:\n",
    "        with open(file_name, \"r\") as file:\n",
    "            lines = 0\n",
    "            character = 0\n",
    "            num_words = 0\n",
    "            num_of_lines = file.readlines()\n",
    "            lines = len(num_of_lines)\n",
    "            for sentence in num_of_lines:\n",
    "                convert_array = sentence.split()\n",
    "                num_words += len(convert_array)\n",
    "                for i in sentence:\n",
    "                    if i != \" \" and i != \"\\n\":\n",
    "                        character += 1            \n",
    "            \n",
    "            return {\"lines\": lines, \"word\": num_words, \"character\": character}\n",
    "    except Exception as e:\n",
    "        return e\n",
    "    \n",
    "\n",
    "print(analyze_file(\"word_file.txt\"))"
   ]
  },
  {
   "cell_type": "code",
   "execution_count": 2,
   "metadata": {},
   "outputs": [
    {
     "name": "stdout",
     "output_type": "stream",
     "text": [
      "5\n",
      "4\n"
     ]
    }
   ],
   "source": [
    "def search_word(file_name, word):\n",
    "    try:\n",
    "        words_count = 0\n",
    "        with open(file_name, \"r\") as f:\n",
    "            file = f.readlines()\n",
    "            for line in file:\n",
    "                for i in line.split():\n",
    "                    if word.lower() == i.lower():\n",
    "                        words_count += 1           \n",
    "        return words_count\n",
    "    except Exception as e:\n",
    "        return e\n",
    "\n",
    "first_word = search_word(\"word_file.txt\", \"Saad\")\n",
    "second_word = search_word(\"text_file.txt\", \"Ipsum\")\n",
    "print(first_word)\n",
    "print(second_word)"
   ]
  },
  {
   "cell_type": "code",
   "execution_count": 1,
   "metadata": {},
   "outputs": [
    {
     "name": "stdout",
     "output_type": "stream",
     "text": [
      "Book purchase succesfully\n",
      "You already purchase this book.\n",
      "Sorry! this book is already sold.\n"
     ]
    }
   ],
   "source": [
    "books = [{\"title\": \"English\", \"author\": \"Ainstein\", \"isbn\": \"234\", \"is_borrowed\": False}, {\"title\": \"Urdu\", \"author\": \"Iqbal\", \"isbn\": \"235\", \"is_borrowed\": False}]\n",
    "\n",
    "class Book():\n",
    "    def __init__(self, title: str, author: str, isbn: str, is_borrowed: bool):\n",
    "        self.title = title\n",
    "        self.author = author\n",
    "        self.isbn = isbn\n",
    "        self.is_borrowed = is_borrowed\n",
    "        \n",
    "    def borrow(self, isbn):\n",
    "        not_available = False\n",
    "        for index in range(len(books)):\n",
    "            if books[index][\"isbn\"] == isbn:\n",
    "                if books[index][\"is_borrowed\"] == True:\n",
    "                    print(\"Sorry! this book is already sold.\")\n",
    "                    return\n",
    "                else:\n",
    "                    books[index][\"is_borrowed\"] = True\n",
    "                    print(\"Book purchase succesfully\")\n",
    "                    return\n",
    "            else:\n",
    "                not_available = True\n",
    "                \n",
    "        if not_available == True:\n",
    "            print(\"Sorry this book is not available.\")\n",
    "            not_available = False\n",
    "            \n",
    "    def return_book(self, isbn):\n",
    "        not_available = False\n",
    "        for index in range(len(books)):\n",
    "            if books[index][\"isbn\"] == isbn:\n",
    "                if books[index][\"is_borrowed\"] == True:\n",
    "                    books[index][\"is_borrowed\"] = False\n",
    "                    print(\"Book return succesfully\")\n",
    "                    return\n",
    "            else:\n",
    "                not_available = True\n",
    "                \n",
    "        if not_available == True:\n",
    "            print(\"Sorry this book is not available in this library.\")\n",
    "            not_available = False\n",
    "        \n",
    "        \n",
    "        \n",
    "class AudioBook(Book):\n",
    "    def __init__(self, title, author, isbn, is_borrowed, duration):\n",
    "        super().__init__(title, author, isbn, is_borrowed, duration)\n",
    "        self.duration = duration\n",
    "        \n",
    "    def borrow(self, isbn):\n",
    "        not_available = False\n",
    "        for index in range(len(books)):\n",
    "            if books[index][\"isbn\"] == isbn:\n",
    "                if books[index][\"is_borrowed\"] == True:\n",
    "                    print(\"Sorry! this audiobook is not avaliable for streaming\")\n",
    "                    return\n",
    "                else:\n",
    "                    books[index][\"is_borrowed\"] = True\n",
    "                    print(\"This audiobook is avaliable for streaming\")\n",
    "                    return\n",
    "        else:\n",
    "            not_available = True\n",
    "                \n",
    "        if not_available == True:\n",
    "            print(\"Sorry this book is not available in this library.\")\n",
    "            not_available = False\n",
    "            \n",
    "            \n",
    "\n",
    "class User:\n",
    "    def __init__(self, user_id, name, borrowed_books):\n",
    "        self.user_id = user_id\n",
    "        self.name = name\n",
    "        self.borrowed_books = borrowed_books\n",
    "        \n",
    "    def borrow_book(self, isbn):\n",
    "        for i in range(len(self.borrowed_books)):\n",
    "            if self.borrowed_books[i][\"isbn\"] == isbn:\n",
    "                if books[i][\"is_borrowed\"] == True:\n",
    "                    print(\"You already purchase this book.\")\n",
    "                    \n",
    "        for index in range(len(books)):\n",
    "            if books[index][\"isbn\"] == isbn:\n",
    "                if books[index][\"is_borrowed\"] == True:\n",
    "                    print(\"Sorry! this book is already sold.\")\n",
    "                    return\n",
    "                else:\n",
    "                    books[index][\"is_borrowed\"] = True\n",
    "                    borrow_books.append(books[index])\n",
    "                    print(\"Book purchase succesfully\")\n",
    "                    return\n",
    "                \n",
    "        \n",
    "    \n",
    "    \n",
    "borrow_books = []\n",
    "# book1 = Book(\"english\", \"Ainstein\", \"234\", False)\n",
    "# book1.borrow(\"234\")\n",
    "# book1.return_book(\"236\")\n",
    "# book1 = AudioBook(\"english\", \"Ainstein\", \"234\", False, 30)\n",
    "# book1.borrow(\"345\")\n",
    "user1 = User(\"1\", \"Saad\", borrow_books)\n",
    "user1.borrow_book(\"234\")\n",
    "user1.borrow_book(\"234\")"
   ]
  },
  {
   "cell_type": "code",
   "execution_count": null,
   "metadata": {},
   "outputs": [],
   "source": []
  }
 ],
 "metadata": {
  "kernelspec": {
   "display_name": "Python 3",
   "language": "python",
   "name": "python3"
  },
  "language_info": {
   "codemirror_mode": {
    "name": "ipython",
    "version": 3
   },
   "file_extension": ".py",
   "mimetype": "text/x-python",
   "name": "python",
   "nbconvert_exporter": "python",
   "pygments_lexer": "ipython3",
   "version": "3.12.4"
  }
 },
 "nbformat": 4,
 "nbformat_minor": 2
}
